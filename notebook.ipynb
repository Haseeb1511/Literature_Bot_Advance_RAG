{
 "cells": [
  {
   "cell_type": "code",
   "execution_count": 3,
   "id": "96db4289",
   "metadata": {},
   "outputs": [
    {
     "data": {
      "text/plain": [
       "True"
      ]
     },
     "execution_count": 3,
     "metadata": {},
     "output_type": "execute_result"
    }
   ],
   "source": [
    "from langchain_groq import ChatGroq\n",
    "from langchain_community.document_loaders import PyPDFLoader,DirectoryLoader\n",
    "from langchain.text_splitter import RecursiveCharacterTextSplitter\n",
    "from langchain.retrievers import EnsembleRetriever,ContextualCompressionRetriever\n",
    "from langchain_community.document_transformers import LongContextReorder,EmbeddingsRedundantFilter\n",
    "from langchain.retrievers.document_compressors import DocumentCompressorPipeline\n",
    "from langchain_community.retrievers import BM25Retriever\n",
    "from langchain_cohere import CohereRerank\n",
    "from langchain_core.output_parsers import StrOutputParser\n",
    "from langchain_core.prompts import PromptTemplate\n",
    "from langchain_community.vectorstores import FAISS\n",
    "from langchain_core.runnables import RunnableParallel,RunnablePassthrough,RunnableLambda\n",
    "from langchain_google_genai import GoogleGenerativeAIEmbeddings\n",
    "from dotenv import load_dotenv\n",
    "load_dotenv()"
   ]
  },
  {
   "cell_type": "markdown",
   "id": "81f93444",
   "metadata": {},
   "source": [
    "## Document Loading"
   ]
  },
  {
   "cell_type": "code",
   "execution_count": 4,
   "id": "021b846e",
   "metadata": {},
   "outputs": [
    {
     "name": "stdout",
     "output_type": "stream",
     "text": [
      "Document Loaded\n"
     ]
    }
   ],
   "source": [
    "path_to_got = \"data/got/game of thrones.pdf\"\n",
    "path_to_sh = \"data/Sherlock Holmes/cano.pdf\"\n",
    "def pdf_loader(path):\n",
    "    \"\"\"Document Loading\"\"\"\n",
    "    loader = PyPDFLoader(path)\n",
    "    return loader.load()\n",
    "got_doc = pdf_loader(path_to_got)\n",
    "sh_doc = pdf_loader(path_to_sh)\n",
    "print(\"Document Loaded\")"
   ]
  },
  {
   "cell_type": "markdown",
   "id": "a0b6bc21",
   "metadata": {},
   "source": [
    "## Text Chunking"
   ]
  },
  {
   "cell_type": "code",
   "execution_count": 5,
   "id": "75a875e3",
   "metadata": {},
   "outputs": [
    {
     "name": "stdout",
     "output_type": "stream",
     "text": [
      "length of game of throne chunks is 1503 and length of SherLock Holmes is 3135\n"
     ]
    }
   ],
   "source": [
    "def text_splitter(doc:str)->str:\n",
    "    \"\"\"Text chunking \"\"\"\n",
    "    splitter = RecursiveCharacterTextSplitter(chunk_size=1500,chunk_overlap=250)\n",
    "    return splitter.split_documents(doc)\n",
    "got_chunks = text_splitter(got_doc)\n",
    "sh_chunks = text_splitter(sh_doc)\n",
    "print(f\"length of game of throne chunks is {len(got_chunks)} and length of SherLock Holmes is {len(sh_chunks)}\")"
   ]
  },
  {
   "cell_type": "markdown",
   "id": "eee4e5ec",
   "metadata": {},
   "source": [
    "### Embedding Model"
   ]
  },
  {
   "cell_type": "code",
   "execution_count": 6,
   "id": "76ccbab2",
   "metadata": {},
   "outputs": [],
   "source": [
    "def embedding_model():\n",
    "    \"\"\"Embedding model\"\"\"\n",
    "    return GoogleGenerativeAIEmbeddings(model = \"models/embedding-001\")\n",
    "embedding_model = embedding_model()"
   ]
  },
  {
   "cell_type": "markdown",
   "id": "f20eeae7",
   "metadata": {},
   "source": [
    "### Creating Vector Store(FAISS)"
   ]
  },
  {
   "cell_type": "code",
   "execution_count": 9,
   "id": "d7f8c2d9",
   "metadata": {},
   "outputs": [
    {
     "name": "stdout",
     "output_type": "stream",
     "text": [
      "vector store created\n"
     ]
    }
   ],
   "source": [
    "path_to_got = \"./faiss/got\"\n",
    "path_to_sh = \"./faiss/sherlock_holmes\"\n",
    "\n",
    "def vector_store_create(chunks):\n",
    "    \"\"\"Vector store Creation\"\"\"\n",
    "    return FAISS.from_documents(documents=chunks,\n",
    "                                    embedding = embedding_model) \n",
    "\n",
    "got_vector_store = vector_store_create(got_chunks)\n",
    "sh_vector_store = vector_store_create(sh_chunks)\n",
    "\n",
    "got_vector_store.save_local(path_to_got)\n",
    "sh_vector_store.save_local(path_to_sh)\n",
    "\n",
    "print(\"vector store created\")"
   ]
  },
  {
   "cell_type": "markdown",
   "id": "82a570dd",
   "metadata": {},
   "source": [
    "### Loading Vector Store"
   ]
  },
  {
   "cell_type": "code",
   "execution_count": 10,
   "id": "2fd2f824",
   "metadata": {},
   "outputs": [],
   "source": [
    "path_to_got = \"./faiss/got\"\n",
    "path_to_sh = \"./faiss/sherlock_holmes\"\n",
    "\n",
    "got_vector_store = FAISS.load_local(embeddings=embedding_model,folder_path=path_to_got,allow_dangerous_deserialization=True)\n",
    "sh_vector_store = FAISS.load_local(embeddings=embedding_model,folder_path=path_to_sh,allow_dangerous_deserialization=True)"
   ]
  },
  {
   "cell_type": "markdown",
   "id": "9d0e65cf",
   "metadata": {},
   "source": [
    "### Retriever"
   ]
  },
  {
   "cell_type": "code",
   "execution_count": 11,
   "id": "0652d56f",
   "metadata": {},
   "outputs": [
    {
     "data": {
      "text/plain": [
       "[Document(id='99ab10ef-242f-48f7-9078-280023e8079e', metadata={'producer': 'Acrobat Web Capture 7.0', 'creator': 'PyPDF', 'creationdate': '2008-06-25T22:32:27+07:00', 'author': 'George R.R. Martin', 'keywords': 'Book One of A Song of Ice and Fire', 'moddate': '2018-01-12T10:46:54+01:00', 'title': 'A Game of Thrones', 'source': 'data/got/game of thrones.pdf', 'total_pages': 755, 'page': 177, 'page_label': '178'}, page_content='Jon smiled at him. “I’m sorry about your wrist. Robb used the same move on me once, \\nonly with a wooden blade. It hurt like seven hells, but yours must be worse. Look, if you \\nwant, I can show you how to defend that.”\\nAlliser Thorne overheard him. “Lord Snow wants to take my place now.” He sneered. \\n“I’d have an easier time teaching a wolf to juggle than you will training this aurochs.”\\n“I’ll take that wager, Ser Alliser,” Jon said. “I’d love to see Ghost juggle.”\\nJon heard Grenn suck in his breath, shocked. Silence fell.\\nThen Tyrion Lannister guffawed. Three of the black brothers joined in from a nearby \\ntable. The laughter spread up and down the benches, until even the cooks joined in. The \\nbirds stirred in the rafters, and finally even Grenn began to chuckle.\\nSer Alliser never took his eyes from Jon. As the laughter rolled around him, his face \\ndarkened, and his sword hand curled into a fist. “That was a grievous error, Lord Snow,” \\nhe said at last in the acid tones of an enemy.'),\n",
       " Document(id='c2380860-2de0-4719-91d6-90ca46c69d57', metadata={'producer': 'Acrobat Web Capture 7.0', 'creator': 'PyPDF', 'creationdate': '2008-06-25T22:32:27+07:00', 'author': 'George R.R. Martin', 'keywords': 'Book One of A Song of Ice and Fire', 'moddate': '2018-01-12T10:46:54+01:00', 'title': 'A Game of Thrones', 'source': 'data/got/game of thrones.pdf', 'total_pages': 755, 'page': 171, 'page_label': '172'}, page_content='one end to the other; he’d feasted and wenched and fought in a hundred battles. They \\nsaid it was Donal Noye who’d forged King Robert’s warhammer, the one that crushed \\nthe life from Rhaegar Targaryen on the Trident. He’d done all the things that Jon would \\nnever do, and then when he was old, well past thirty, he’d taken a glancing blow from an \\naxe and the wound had festered until the whole arm had to come off. Only then, \\ncrippled, had Donal Noye come to the Wall, when his life was all but over.\\n“Yes, life,” Noye said. “A long life or a short one, it’s up to you, Snow. The road you’re \\nwalking, one of your brothers will slit your throat for you one night.”\\n“They’re not my brothers,” Jon snapped. “They hate me because I’m better than they \\nare.”\\n“No. They hate you because you act like you’re better than they are. They look at you and \\nsee a castle-bred bastard who thinks he’s a lordling.” The armorer leaned close. “You’re \\nno lordling. Remember that. You’re a Snow, not a Stark. You’re a bastard and a bully.”\\n“A bully?” Jon almost choked on the word. The accusation was so unjust it took his \\nbreath away. “They were the ones who came after me. Four of them.”\\n“Four that you’ve humiliated in the yard. Four who are probably afraid of you. I’ve'),\n",
       " Document(id='6d69a9bf-cc60-4573-932c-3a670e4e9b95', metadata={'producer': 'Acrobat Web Capture 7.0', 'creator': 'PyPDF', 'creationdate': '2008-06-25T22:32:27+07:00', 'author': 'George R.R. Martin', 'keywords': 'Book One of A Song of Ice and Fire', 'moddate': '2018-01-12T10:46:54+01:00', 'title': 'A Game of Thrones', 'source': 'data/got/game of thrones.pdf', 'total_pages': 755, 'page': 702, 'page_label': '703'}, page_content='towering granite walls, the Great Hall with its smells of smoke and dog and roasting \\nmeat, his father’s solar, the turret room where he had slept. Part of him wanted nothing \\nso much as to hear Bran laugh again, to sup on one of Gage’s beef-and-bacon pies, to \\nlisten to Old Nan tell her tales of the children of the forest and Florian the Fool.\\nBut he had not left the Wall for that; he had left because he was after all his father’s son, \\nand Robb’s brother. The gift of a sword, even a sword as fine as Longclaw, did not make \\nhim a Mormont. Nor was he Aemon Targaryen. Three times the old man had chosen, \\nand three times he had chosen honor, but that was him. Even now, Jon could not decide \\nwhether the maester had stayed because he was weak and craven, or because he was \\nstrong and true. Yet he understood what the old man had meant, about the pain of \\nchoosing; he understood that all too well.\\nTyrion Lannister had claimed that most men would rather deny a hard truth than face it, \\nbut Jon was done with denials. He was who he was; Jon Snow, bastard and oathbreaker, \\nmotherless, friendless, and damned. For the rest of his life—however long that might be\\n—he would be condemned to be an outsider, the silent man standing in the shadows who \\ndares not speak his true name. Wherever he might go throughout the Seven Kingdoms, \\nhe would need to live a lie, lest every man’s hand be raised against him. But it made no')]"
      ]
     },
     "execution_count": 11,
     "metadata": {},
     "output_type": "execute_result"
    }
   ],
   "source": [
    "got_retriever = got_vector_store.as_retriever(search_type=\"similarity\",search_kwargs={\"k\":3})\n",
    "sh_retriever = sh_vector_store.as_retriever(search_type=\"similarity\",search_kwargs={\"k\":3})\n",
    "got_retriever.invoke(\"who is jon snow\")"
   ]
  },
  {
   "cell_type": "markdown",
   "id": "82c22047",
   "metadata": {},
   "source": [
    "### Prompt"
   ]
  },
  {
   "cell_type": "code",
   "execution_count": 12,
   "id": "8df3d7b9",
   "metadata": {},
   "outputs": [],
   "source": [
    "parser = StrOutputParser()\n",
    "prompt = PromptTemplate(\n",
    "    template=\"\"\"You are a highly accurate story writter .\n",
    "        Use ONLY the given context to answer the user's question.\n",
    "        If the context does not contain the information needed, simply reply:\n",
    "        \"I don't know based on the given context.\"\n",
    "        CONTEXT:\n",
    "        {context}\n",
    "        QUESTION:\n",
    "        {question}\n",
    "        Your Answer:\"\"\",\n",
    "input_variables=[\"context\", \"question\"])"
   ]
  },
  {
   "cell_type": "code",
   "execution_count": 13,
   "id": "ec4e14b9",
   "metadata": {},
   "outputs": [],
   "source": [
    "merger_retrival = RunnableParallel({\n",
    "    \"got_ret\":got_retriever,\n",
    "    \"sh_ret\":sh_retriever\n",
    "}) | RunnableLambda(lambda x: x[\"got_ret\"]+x[\"sh_ret\"])"
   ]
  },
  {
   "cell_type": "markdown",
   "id": "065bf343",
   "metadata": {},
   "source": [
    "### Keyword Retriever(BM25)"
   ]
  },
  {
   "cell_type": "code",
   "execution_count": 14,
   "id": "96883a13",
   "metadata": {},
   "outputs": [],
   "source": [
    "bm25_retriever_got = BM25Retriever.from_documents(got_chunks)\n",
    "bm25_retriever_got.k=3\n",
    "\n",
    "bm25_retriever_wot = BM25Retriever.from_documents(sh_chunks)\n",
    "bm25_retriever_wot.k=3"
   ]
  },
  {
   "cell_type": "markdown",
   "id": "5f8aaf8f",
   "metadata": {},
   "source": [
    "## Ensemble Retriever(Hybrid Retriever)"
   ]
  },
  {
   "cell_type": "code",
   "execution_count": 15,
   "id": "57456abd",
   "metadata": {},
   "outputs": [],
   "source": [
    "got_hybrid = EnsembleRetriever(\n",
    "    retrievers=[bm25_retriever_got,got_retriever],\n",
    "    weights=[0.5,0.5]\n",
    ")\n",
    "sh_hybrid = EnsembleRetriever(\n",
    "    retrievers=[bm25_retriever_wot,sh_retriever],\n",
    "    weights=[0.5,0.5]\n",
    ")"
   ]
  },
  {
   "cell_type": "code",
   "execution_count": 16,
   "id": "0f24853e",
   "metadata": {},
   "outputs": [],
   "source": [
    "retriever_chain = RunnableParallel({\n",
    "    \"got\":got_hybrid,\n",
    "    \"sh\":sh_hybrid\n",
    "}) | RunnableLambda(lambda x :x[\"got\"]+x[\"sh\"])\n"
   ]
  },
  {
   "cell_type": "markdown",
   "id": "5460a202",
   "metadata": {},
   "source": [
    "## RE-ranking(CohereRerank) & Extra Chunks Filtering"
   ]
  },
  {
   "cell_type": "code",
   "execution_count": 17,
   "id": "9fcf567f",
   "metadata": {},
   "outputs": [],
   "source": [
    "# reranker using cohere\n",
    "reranker = CohereRerank(model=\"rerank-english-v3.0\")  # anks documents by how well they answer the user's question.\n",
    "filter = EmbeddingsRedundantFilter(embeddings=embedding_model) # Removes duplicate or highly similar chunks.\n",
    "reordering = LongContextReorder()  # Reorders documents to maximize coherence in long context windows\n",
    "pipeline = DocumentCompressorPipeline(transformers=[reranker,filter,reordering])\n"
   ]
  },
  {
   "cell_type": "markdown",
   "id": "5ac6edce",
   "metadata": {},
   "source": [
    "### ContextualCompressionRetriever"
   ]
  },
  {
   "cell_type": "code",
   "execution_count": 18,
   "id": "ab4b4048",
   "metadata": {},
   "outputs": [],
   "source": [
    "compression_retriever = ContextualCompressionRetriever(\n",
    "    base_retriever=retriever_chain,\n",
    "    base_compressor=pipeline\n",
    ")"
   ]
  },
  {
   "cell_type": "markdown",
   "id": "843f24de",
   "metadata": {},
   "source": [
    "### Extracting Page Content"
   ]
  },
  {
   "cell_type": "code",
   "execution_count": 19,
   "id": "e88bf54e",
   "metadata": {},
   "outputs": [],
   "source": [
    "def context(document):\n",
    "    return \"\\n\\n\".join(doc.page_content for doc in document)"
   ]
  },
  {
   "cell_type": "code",
   "execution_count": 20,
   "id": "899f70a7",
   "metadata": {},
   "outputs": [],
   "source": [
    "\n",
    "parallel_chain = RunnableParallel({\n",
    "    \"context\": compression_retriever | RunnableLambda(context),\n",
    "    \"question\":RunnablePassthrough()\n",
    "})"
   ]
  },
  {
   "cell_type": "markdown",
   "id": "3d88b153",
   "metadata": {},
   "source": [
    "## Text Generation Model"
   ]
  },
  {
   "cell_type": "code",
   "execution_count": 21,
   "id": "4e92fcda",
   "metadata": {},
   "outputs": [],
   "source": [
    "model = ChatGroq(model=\"gemma2-9b-it\",max_tokens=512)"
   ]
  },
  {
   "cell_type": "markdown",
   "id": "bff71b42",
   "metadata": {},
   "source": [
    "## Final Chain"
   ]
  },
  {
   "cell_type": "code",
   "execution_count": 22,
   "id": "74796d53",
   "metadata": {},
   "outputs": [],
   "source": [
    "final_chain = parallel_chain | prompt | model | parser"
   ]
  },
  {
   "cell_type": "code",
   "execution_count": 24,
   "id": "ecb42270",
   "metadata": {},
   "outputs": [],
   "source": [
    "from IPython.display import Markdown,display"
   ]
  },
  {
   "cell_type": "code",
   "execution_count": 25,
   "id": "38e5232a",
   "metadata": {},
   "outputs": [
    {
     "data": {
      "text/markdown": [
       "Jon Snow is a bastard, oathbreaker, motherless, friendless, and damned.  He is the son of Eddard Stark and a woman whose name is never mentioned.  He left his home to join the Night's Watch.  Jon believes that he is better than the other brothers at the Wall, which causes them to hate him. \n"
      ],
      "text/plain": [
       "<IPython.core.display.Markdown object>"
      ]
     },
     "metadata": {},
     "output_type": "display_data"
    }
   ],
   "source": [
    "query = input(\"enter query:\")\n",
    "result = final_chain.invoke(query)\n",
    "display(Markdown(result))"
   ]
  },
  {
   "cell_type": "code",
   "execution_count": 26,
   "id": "5349b6f2",
   "metadata": {},
   "outputs": [
    {
     "data": {
      "text/markdown": [
       "He is a detective who is an expert in observation and deduction. He has written monographs on technical subjects.  \n"
      ],
      "text/plain": [
       "<IPython.core.display.Markdown object>"
      ]
     },
     "metadata": {},
     "output_type": "display_data"
    }
   ],
   "source": [
    "query = input(\"enter query:\")\n",
    "result = final_chain.invoke(query)\n",
    "display(Markdown(result))"
   ]
  },
  {
   "cell_type": "code",
   "execution_count": null,
   "id": "3134fb3c",
   "metadata": {},
   "outputs": [],
   "source": []
  }
 ],
 "metadata": {
  "kernelspec": {
   "display_name": "venv",
   "language": "python",
   "name": "python3"
  },
  "language_info": {
   "codemirror_mode": {
    "name": "ipython",
    "version": 3
   },
   "file_extension": ".py",
   "mimetype": "text/x-python",
   "name": "python",
   "nbconvert_exporter": "python",
   "pygments_lexer": "ipython3",
   "version": "3.12.7"
  }
 },
 "nbformat": 4,
 "nbformat_minor": 5
}
